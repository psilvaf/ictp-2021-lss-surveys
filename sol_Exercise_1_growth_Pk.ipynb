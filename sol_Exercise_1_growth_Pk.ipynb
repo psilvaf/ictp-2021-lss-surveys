{
  "nbformat": 4,
  "nbformat_minor": 0,
  "metadata": {
    "colab": {
      "name": "sol_Exercise_1_growth_Pk.ipynb",
      "provenance": [],
      "collapsed_sections": [],
      "include_colab_link": true
    },
    "kernelspec": {
      "name": "python3",
      "display_name": "Python 3"
    }
  },
  "cells": [
    {
      "cell_type": "markdown",
      "metadata": {
        "id": "view-in-github",
        "colab_type": "text"
      },
      "source": [
        "<a href=\"https://colab.research.google.com/github/psilvaf/ictp-2021-lss-surveys/blob/main/sol_Exercise_1_growth_Pk.ipynb\" target=\"_parent\"><img src=\"https://colab.research.google.com/assets/colab-badge.svg\" alt=\"Open In Colab\"/></a>"
      ]
    },
    {
      "cell_type": "markdown",
      "metadata": {
        "id": "dQhG0Ii4kdGM"
      },
      "source": [
        "# Exercise 1: From scratch to $P(k, z)$\n",
        "\n",
        "In this exercise we will code up the matter power spectrum, and then the amplitude of mass fluctuations sigma8. From scratch!"
      ]
    },
    {
      "cell_type": "markdown",
      "metadata": {
        "id": "LRBM7M8KlYK5"
      },
      "source": [
        "First, load up the usual functins that we shall need."
      ]
    },
    {
      "cell_type": "code",
      "metadata": {
        "colab": {
          "base_uri": "https://localhost:8080/",
          "height": 70
        },
        "id": "bqlNZ_96kV95",
        "outputId": "dc051976-86da-4c02-a695-5a9a04dc043e"
      },
      "source": [
        "%matplotlib inline\n",
        "import numpy as np\n",
        "import matplotlib.pyplot as plt\n",
        "from scipy.integrate import quad # will need for integration ('quadrature')\n",
        "\n",
        "###########################################################################\n",
        "### The block below is entirely optional; it just makes the plots look good\n",
        "### You can copy it to all ipynb files that you do, or not, up to you\n",
        "### requires the myplot_style.txt file that you upload as below\n",
        "### (I will be providing that file)\n",
        "###########################################################################\n",
        "\n",
        "'''# figure size and resolution\n",
        "plt.rcParams['figure.figsize'] = [9, 6]\n",
        "plt.rcParams['figure.dpi'] = 100 # 200 e.g. is really fine, but slower\n",
        "\n",
        "# style file to make plots look nice (large labels etc)\n",
        "from google.colab import files\n",
        "src = list(files.upload().values())[0]\n",
        "open('myplot_style.txt','wb').write(src)\n",
        "\n",
        "# I will be providing this file - this is optional as I said\n",
        "plt.style.use('myplot_style.txt')'''"
      ],
      "execution_count": null,
      "outputs": [
        {
          "output_type": "execute_result",
          "data": {
            "application/vnd.google.colaboratory.intrinsic+json": {
              "type": "string"
            },
            "text/plain": [
              "\"# figure size and resolution\\nplt.rcParams['figure.figsize'] = [9, 6]\\nplt.rcParams['figure.dpi'] = 100 # 200 e.g. is really fine, but slower\\n\\n# style file to make plots look nice (large labels etc)\\nfrom google.colab import files\\nsrc = list(files.upload().values())[0]\\nopen('myplot_style.txt','wb').write(src)\\n\\n# I will be providing this file - this is optional as I said\\nplt.style.use('myplot_style.txt')\""
            ]
          },
          "metadata": {
            "tags": []
          },
          "execution_count": 1
        }
      ]
    },
    {
      "cell_type": "markdown",
      "metadata": {
        "id": "FbBaAHP32gWi"
      },
      "source": [
        "Then define the base cosmo parameters"
      ]
    },
    {
      "cell_type": "code",
      "metadata": {
        "id": "YHBPbdNh2ima"
      },
      "source": [
        "Om=0.3\n",
        "Ok=0.0\n",
        "w=-1.0\n",
        "ns=0.963\n",
        "A = 2.1e-9 # at k=0.05\n",
        "H0 = 67.0\n",
        "Ob=0.022396 *(100/H0)**2 "
      ],
      "execution_count": null,
      "outputs": []
    },
    {
      "cell_type": "markdown",
      "metadata": {
        "id": "QW2LxeN9leXV"
      },
      "source": [
        "Then, add the distance functions."
      ]
    },
    {
      "cell_type": "code",
      "metadata": {
        "id": "0lxj2tsYldpb"
      },
      "source": [
        "def dist_integrand(z, Om, Ok, w):\n",
        "    Ol = 1 - Om - Ok\n",
        "    return 1.0/np.sqrt(Om*(1+z)**3 + Ol*(1+z)**(3*(1+w)) + Ok*(1+z)**2)\n",
        "\n",
        "SMALL = 1.0e-5  # some small number, doesn't matter what\n",
        "\n",
        "# this is really H0 r(z)!\n",
        "def rz(z, Om, Ok, w):\n",
        "    chi = quad(dist_integrand, 0, z, args=(Om, Ok, w))[0]\n",
        "    if (Ok > SMALL):\n",
        "        return np.sinh(np.sqrt(Ok)*chi) / np.sqrt(Ok) # open\n",
        "    elif (Ok < -SMALL):\n",
        "        return np.sin(np.sqrt(-Ok)*chi) / np.sqrt(-Ok) # closed\n",
        "    else:\n",
        "        return chi"
      ],
      "execution_count": null,
      "outputs": []
    },
    {
      "cell_type": "markdown",
      "metadata": {
        "id": "hdPHQkdSvPi-"
      },
      "source": [
        "Now code up the linear growth function. \n",
        "The exact equation, valid for all w(z) CDM model is given in the lecture notes. \n",
        "However here, you can use an approximate expression from Carroll, Press & Turner (1992) which holds for flat LCDM models:\n",
        "\n",
        "$g(z)\\simeq\\displaystyle\\frac{5}{2}\\,\n",
        "{\\displaystyle\\Omega_M(z)\\over \\Omega_M(z)^{4/7} - \\Omega_\\Lambda(z) + \\left [1+\\displaystyle {1\\over 2}\\Omega_M(z)\\right ]\\left [1+\\displaystyle{1\\over 70}\\Omega_\\Lambda(z)\\right ]}$\n",
        "\n",
        "How do you go from $g(a)$ to $D(a)$? And which one, if either, actually enters $P(k)$??\n"
      ]
    },
    {
      "cell_type": "code",
      "metadata": {
        "id": "lFe6bNMOvgTs"
      },
      "source": [
        "# g(a) growth function; assumes flat and LCDM\n",
        "def ga_LCDM(z, Om):  \n",
        "    # Omega_M(z)\n",
        "    Om_z = Om*(1+z)**3 / (Om*(1+z)**3 + (1-Om))\n",
        "    # Omega_L(z)\n",
        "    Ol_z = 1.0-Om_z\n",
        "\n",
        "    numerator   = 2.5 * Om_z \n",
        "    denominator = Om_z**(4.0/7) - Ol_z + (1+0.5*Om_z) * (1 + 1.0/70*Ol_z)\n",
        "    return numerator/denominator\n",
        "\n",
        "# a*g(a) \n",
        "def a_times_ga_LCDM(z, Om):      \n",
        "    return ga_LCDM(z, Om)/(1+z)\n",
        "\n",
        "# D(a) = a*g(a)/g(1))\n",
        "def Da_LCDM(z, Om):\n",
        "    return a_times_ga_LCDM(z, Om)/ga_LCDM(0, Om)\n"
      ],
      "execution_count": null,
      "outputs": []
    },
    {
      "cell_type": "markdown",
      "metadata": {
        "id": "6X61S0B15L9s"
      },
      "source": [
        "Code up the transfer function. For simplicity, use the simple BBKS transfer function (Bardeen, Bond, Kaiser, Szalay 1987):\n",
        "\n",
        "$T(k) = \\displaystyle{\\ln (1+2.34q)\\over 2.34q}\n",
        "\\left [1+3.89q+(16.1q)^2+(5.46q)^3+(6.71q)^4\\right ]^{-1/4}$\n",
        "\n",
        "where\n",
        "\n",
        "$q \\equiv  \\displaystyle{1\\over \\Gamma}{k\\over h\\,{\\rm Mpc}^{-1}};\\qquad\n",
        "\\Gamma\\equiv \\Omega_M h \\exp(-\\Omega_B - 1.3\\Omega_B/\\Omega_M)$"
      ]
    },
    {
      "cell_type": "code",
      "metadata": {
        "id": "L1-NBsm85Uih"
      },
      "source": [
        "# BBKS transfer function; k needs to be in Mpcinv\n",
        "def TF_BBKS(k_Mpcinv, h, Om, Ob):    \n",
        "    Gamma=Om*h*np.exp(-Ob-1.3*Ob/Om) # not original BBKS, but more accurate\n",
        "    qval = k_Mpcinv/(Gamma*h)\n",
        "    return np.log(1+2.34*qval)/(2.34*qval)* (1 + 3.89*qval + (16.1*qval)**2 + (5.46*qval)**3 + (6.71*qval)**4)**(-0.25)"
      ],
      "execution_count": null,
      "outputs": []
    },
    {
      "cell_type": "markdown",
      "metadata": {
        "id": "-ifSth28zcss"
      },
      "source": [
        "Now a big moment - define the linear-theory power spectrum $P(k, z)$.  We gave the formula for the dimensionless version $\\Delta^2(k)$ in the lecture notes:\n",
        "\n",
        "$ \\Delta^2(k, a)\\equiv \\displaystyle{k^3 P(k)\\over 2\\pi^2}=A\\,{4\\over 25}\n",
        "{1\\over \\Omega_M^2}\\left ({k\\over k_{\\rm piv}}\\right )^{n-1}\n",
        "\\left ({k\\over H_0}\\right )^4 \\,\n",
        "[a g(a)]^2\\, T^2(k)$\n",
        "\n",
        "Everything here is pretty straightforward except the pivot, which is\n",
        "\n",
        "$k_{\\rm piv}=0.05\\,{\\rm Mpc}^{-1}$.\n",
        "\n",
        "What's the big deal? The units of this $k$ are $\\,{\\rm Mpc}^{-1}$, while the units of essentially every other appearance of $k$ in cosmology is the unit we usually want: $h\\,{\\rm Mpc}^{-1}$. **This creates potential for a bug.** Please take a moment to figure out to get all units to agree.\n",
        "\n",
        "Define a function for the linear $\\Delta^2(k, z)$, and then $P(k, z)$, below."
      ]
    },
    {
      "cell_type": "code",
      "metadata": {
        "id": "afuOZ74Hzl0-"
      },
      "source": [
        "# linear dimensionless matter power spectrum, Delta^2(z, k)\n",
        "def Deltasq_Pk_linear(z, k, A_k005, H0, Om, Ob, ns): # k is in h Mpc^{-1}\n",
        "    growth =  a_times_ga_LCDM(z, Om)\n",
        "    h        = H0/100.0\n",
        "    H0_hMpcinv  = 1.0/2997.9  \n",
        "    k_Mpcinv = k*h\n",
        "    k_fid    = 0.05    ## Planck expands around this; in Mpc^{-1}\n",
        "    transfer = TF_BBKS(k_Mpcinv, h, Om, Ob)\n",
        "    return 4.0/25 * A_k005 * Om**(-2) * (k_Mpcinv/k_fid)**(ns-1) * (k/H0_hMpcinv)**4 * (growth*transfer)**2\n"
      ],
      "execution_count": null,
      "outputs": []
    },
    {
      "cell_type": "markdown",
      "metadata": {
        "id": "dKDF7GqZ2Eb1"
      },
      "source": [
        "Plot $P(k)$ at $z=0$ and $z=1$. Use range $k\\in [0.001, 10]$ in the usual units, and make the plot log-log."
      ]
    },
    {
      "cell_type": "code",
      "metadata": {
        "colab": {
          "base_uri": "https://localhost:8080/",
          "height": 307
        },
        "id": "TcjB_IX52TCw",
        "outputId": "2ce68254-2926-49eb-f457-3aa0993e47b5"
      },
      "source": [
        "karr = np.logspace(-3, 1, 51)\n",
        "\n",
        "z=0\n",
        "Deltasq_lin      = [Deltasq_Pk_linear  (z, k, A, H0, Om, Ob, ns) for k in karr]\n",
        "prefac           = [(2*np.pi**2)/k**3 for k in karr]\n",
        "Pk_lin           = [a*b for a, b in zip(prefac,Deltasq_lin)]\n",
        "\n",
        "z=1\n",
        "Deltasq_lin_z1   = [Deltasq_Pk_linear  (z, k, A, H0, Om, Ob, ns) for k in karr]\n",
        "Pk_lin_z1        = [a*b for a, b in zip(prefac,Deltasq_lin_z1)]\n",
        "\n",
        "plt.loglog(karr,Pk_lin, 'k', label='z=0')\n",
        "plt.loglog(karr,Pk_lin_z1, 'b', ls='dashed', label='z=1')\n",
        "\n",
        "plt.legend(loc=\"upper right\")\n",
        "plt.xlabel(r'$k\\,\\, (h\\,{\\rm Mpc}^{-1})$')\n",
        "plt.ylabel(r'$P(k, z)\\,\\, [(h^{-1}\\,{\\rm Mpc})^3]$', fontsize=20)"
      ],
      "execution_count": null,
      "outputs": [
        {
          "output_type": "execute_result",
          "data": {
            "text/plain": [
              "Text(0, 0.5, '$P(k, z)\\\\,\\\\, [(h^{-1}\\\\,{\\\\rm Mpc})^3]$')"
            ]
          },
          "metadata": {
            "tags": []
          },
          "execution_count": 7
        },
        {
          "output_type": "display_data",
          "data": {
            "image/png": "[encoded data removed]",
            "text/plain": [
              "<Figure size 432x288 with 1 Axes>"
            ]
          },
          "metadata": {
            "tags": [],
            "needs_background": "light"
          }
        }
      ]
    },
    {
      "cell_type": "code",
      "metadata": {
        "id": "EZ-hHYAn3ydI"
      },
      "source": [
        ""
      ],
      "execution_count": null,
      "outputs": []
    }
  ]
}