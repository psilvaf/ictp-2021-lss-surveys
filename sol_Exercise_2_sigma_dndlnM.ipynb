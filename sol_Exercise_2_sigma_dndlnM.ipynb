{
  "nbformat": 4,
  "nbformat_minor": 0,
  "metadata": {
    "colab": {
      "name": "sol_Exercise_2_sigma_dndlnM.ipynb",
      "provenance": [],
      "collapsed_sections": [],
      "include_colab_link": true
    },
    "kernelspec": {
      "name": "python3",
      "display_name": "Python 3"
    }
  },
  "cells": [
    {
      "cell_type": "markdown",
      "metadata": {
        "id": "view-in-github",
        "colab_type": "text"
      },
      "source": [
        "<a href=\"https://colab.research.google.com/github/psilvaf/ictp-2021-lss-surveys/blob/main/sol_Exercise_2_sigma_dndlnM.ipynb\" target=\"_parent\"><img src=\"https://colab.research.google.com/assets/colab-badge.svg\" alt=\"Open In Colab\"/></a>"
      ]
    },
    {
      "cell_type": "markdown",
      "metadata": {
        "id": "dQhG0Ii4kdGM"
      },
      "source": [
        "# Exercise 1: $\\sigma(R, z)$ (including $\\sigma_8$) and the mass function.\n",
        "\n",
        "We will now start from our code for the power spectrum, and code up the amplitude of mass fluctuations $\\sigma(R, z)$.  Then we will take that knowledge to calculate the mass function $dn/d\\ln M$, and finally predict cluster counts in a survey."
      ]
    },
    {
      "cell_type": "markdown",
      "metadata": {
        "id": "LRBM7M8KlYK5"
      },
      "source": [
        "First, load up the usual functins that we shall need."
      ]
    },
    {
      "cell_type": "code",
      "metadata": {
        "colab": {
          "base_uri": "https://localhost:8080/",
          "height": 70
        },
        "id": "bqlNZ_96kV95",
        "outputId": "e4371826-697b-4e4e-fb25-5844887843c2"
      },
      "source": [
        "%matplotlib inline\n",
        "import numpy as np\n",
        "import matplotlib.pyplot as plt\n",
        "from scipy.integrate import quad # will need for integration ('quadrature')\n",
        "\n",
        "###########################################################################\n",
        "### The block below is entirely optional; it just makes the plots look good\n",
        "### You can copy it to all ipynb files that you do, or not, up to you\n",
        "### requires the myplot_style.txt file that you upload as below\n",
        "### (I will be providing that file)\n",
        "###########################################################################\n",
        "\n",
        "'''# figure size and resolution\n",
        "plt.rcParams['figure.figsize'] = [12, 8]\n",
        "plt.rcParams['figure.dpi'] = 100 # 200 e.g. is really fine, but slower\n",
        "\n",
        "# style file to make plots look nice (large labels etc)\n",
        "from google.colab import files\n",
        "src = list(files.upload().values())[0]\n",
        "open('myplot_style.txt','wb').write(src)\n",
        "\n",
        "# I will be providing this file - this is optional as I said\n",
        "plt.style.use('myplot_style.txt')'''"
      ],
      "execution_count": 2,
      "outputs": [
        {
          "output_type": "execute_result",
          "data": {
            "application/vnd.google.colaboratory.intrinsic+json": {
              "type": "string"
            },
            "text/plain": [
              "\"# figure size and resolution\\nplt.rcParams['figure.figsize'] = [12, 8]\\nplt.rcParams['figure.dpi'] = 100 # 200 e.g. is really fine, but slower\\n\\n# style file to make plots look nice (large labels etc)\\nfrom google.colab import files\\nsrc = list(files.upload().values())[0]\\nopen('myplot_style.txt','wb').write(src)\\n\\n# I will be providing this file - this is optional as I said\\nplt.style.use('myplot_style.txt')\""
            ]
          },
          "metadata": {
            "tags": []
          },
          "execution_count": 2
        }
      ]
    },
    {
      "cell_type": "markdown",
      "metadata": {
        "id": "FbBaAHP32gWi"
      },
      "source": [
        "Then define the base cosmo parameters"
      ]
    },
    {
      "cell_type": "code",
      "metadata": {
        "id": "YHBPbdNh2ima"
      },
      "source": [
        "Om=0.2\n",
        "Ok=0.0\n",
        "w=-1.0\n",
        "ns=0.963\n",
        "A = 2.1e-9 # at k=0.05\n",
        "H0 = 67.0\n",
        "Ob=0.022396 *(100/H0)**2 "
      ],
      "execution_count": 1,
      "outputs": []
    },
    {
      "cell_type": "markdown",
      "metadata": {
        "id": "QW2LxeN9leXV"
      },
      "source": [
        "Then, add the distance functions."
      ]
    },
    {
      "cell_type": "code",
      "metadata": {
        "id": "0lxj2tsYldpb"
      },
      "source": [
        "def dist_integrand(z, Om, Ok, w):\n",
        "    Ol = 1 - Om - Ok\n",
        "    return 1.0/np.sqrt(Om*(1+z)**3 + Ol*(1+z)**(3*(1+w)) + Ok*(1+z)**2)\n",
        "\n",
        "SMALL = 1.0e-5  # some small number, doesn't matter what\n",
        "\n",
        "# this is really H0 r(z)!\n",
        "def rz(z, Om, Ok, w):\n",
        "    chi = quad(dist_integrand, 0, z, args=(Om, Ok, w))[0]\n",
        "    if (Ok > SMALL):\n",
        "        return np.sinh(np.sqrt(Ok)*chi) / np.sqrt(Ok) # open\n",
        "    elif (Ok < -SMALL):\n",
        "        return np.sin(np.sqrt(-Ok)*chi) / np.sqrt(-Ok) # closed\n",
        "    else:\n",
        "        return chi"
      ],
      "execution_count": 3,
      "outputs": []
    },
    {
      "cell_type": "markdown",
      "metadata": {
        "id": "hdPHQkdSvPi-"
      },
      "source": [
        "Now code up the linear growth function. \n",
        "The exact equation, valid for all w(z) CDM model is given in the lecture notes. \n",
        "However here, you can use an approximate expression from Carroll, Press & Turner (1992) which holds for flat LCDM models:\n",
        "\n",
        "$g(z)\\simeq\\displaystyle\\frac{5}{2}\\,\n",
        "{\\displaystyle\\Omega_M(z)\\over \\Omega_M(z)^{4/7} - \\Omega_\\Lambda(z) + \\left [1+\\displaystyle {1\\over 2}\\Omega_M(z)\\right ]\\left [1+\\displaystyle{1\\over 70}\\Omega_\\Lambda(z)\\right ]}$\n",
        "\n",
        "How do you go from $g(a)$ to $D(a)$? And which one, if either, actually enters $P(k)$??\n"
      ]
    },
    {
      "cell_type": "code",
      "metadata": {
        "id": "lFe6bNMOvgTs"
      },
      "source": [
        "# g(a) growth function; assumes flat and LCDM\n",
        "def ga_LCDM(z, Om):  \n",
        "    # Omega_M(z)\n",
        "    Om_z = Om*(1+z)**3 / (Om*(1+z)**3 + (1-Om))\n",
        "    # Omega_L(z)\n",
        "    Ol_z = 1.0-Om_z\n",
        "\n",
        "    numerator   = 2.5 * Om_z \n",
        "    denominator = Om_z**(4.0/7) - Ol_z + (1+0.5*Om_z) * (1 + 1.0/70*Ol_z)\n",
        "    return numerator/denominator\n",
        "\n",
        "# a*g(a) \n",
        "def a_times_ga_LCDM(z, Om):      \n",
        "    return ga_LCDM(z, Om)/(1+z)\n",
        "\n",
        "# D(a) = a*g(a)/g(1))\n",
        "def Da_LCDM(z, Om):\n",
        "    return a_times_ga_LCDM(z, Om)/ga_LCDM(0, Om)\n"
      ],
      "execution_count": 4,
      "outputs": []
    },
    {
      "cell_type": "markdown",
      "metadata": {
        "id": "6X61S0B15L9s"
      },
      "source": [
        "Code up the transfer function. For simplicity, use the simple BBKS transfer function (Bardeen, Bond, Kaisser, Szalay 1987):"
      ]
    },
    {
      "cell_type": "code",
      "metadata": {
        "id": "L1-NBsm85Uih"
      },
      "source": [
        "# BBKS transfer function; k needs to be in Mpcinv\n",
        "def TF_BBKS(k_Mpcinv, h, Om, Ob):    \n",
        "    Gamma=Om*h*np.exp(-Ob-1.3*Ob/Om) # not original BBKS, but more accurate\n",
        "    qval = k_Mpcinv/(Gamma*h)\n",
        "    return np.log(1+2.34*qval)/(2.34*qval)* (1 + 3.89*qval + (16.1*qval)**2 + (5.46*qval)**3 + (6.71*qval)**4)**(-0.25)"
      ],
      "execution_count": 5,
      "outputs": []
    },
    {
      "cell_type": "markdown",
      "metadata": {
        "id": "-ifSth28zcss"
      },
      "source": [
        "Now a big moment - define the linear-theory power spectrum $P(k, z)$.  We gave the formula for the dimensionless version $\\Delta^2(k)$ in the lecture notes:\n",
        "\n",
        "$ \\Delta^2(k, a)\\equiv \\displaystyle{k^3 P(k)\\over 2\\pi^2}=A\\,{4\\over 25}\n",
        "{1\\over \\Omega_M^2}\\left ({k\\over k_{\\rm piv}}\\right )^{n-1}\n",
        "\\left ({k\\over H_0}\\right )^4 \\,\n",
        "[a g(a)]^2\\, T^2(k)$\n",
        "\n",
        "Define a function for the linear $\\Delta^2(k, z)$."
      ]
    },
    {
      "cell_type": "code",
      "metadata": {
        "id": "afuOZ74Hzl0-"
      },
      "source": [
        "# linear dimensionless matter power spectrum, Delta^2(z, k)\n",
        "def Deltasq_Pk_linear(z, k, A_k005, H0, Om, Ob, ns): # k is in h Mpc^{-1}\n",
        "    growth =  a_times_ga_LCDM(z, Om)\n",
        "    h        = H0/100.0\n",
        "    H0_hMpcinv  = 1.0/2997.9  \n",
        "    k_Mpcinv = k*h\n",
        "    k_fid    = 0.05    ## Planck expands around this; in Mpc^{-1}\n",
        "    transfer = TF_BBKS(k_Mpcinv, h, Om, Ob)\n",
        "    return 4.0/25 * A_k005 * Om**(-2) * (k_Mpcinv/k_fid)**(ns-1) * (k/H0_hMpcinv)**4 * (growth*transfer)**2\n"
      ],
      "execution_count": 6,
      "outputs": []
    },
    {
      "cell_type": "markdown",
      "metadata": {
        "id": "dKDF7GqZ2Eb1"
      },
      "source": [
        "Plot $P(k)$ at $z=0$ and $z=1$. Use range $k\\in [0.001, 10]$ in the usual units, and make the plot log-log."
      ]
    },
    {
      "cell_type": "code",
      "metadata": {
        "colab": {
          "base_uri": "https://localhost:8080/",
          "height": 321
        },
        "id": "TcjB_IX52TCw",
        "outputId": "482669b4-3f59-4a3a-8536-d8c1948837f2"
      },
      "source": [
        "karr = np.logspace(-3, 1, 51)\n",
        "\n",
        "z=0\n",
        "Deltasq_lin      = [Deltasq_Pk_linear  (z, k, A, H0, Om, Ob, ns) for k in karr]\n",
        "prefac           = [(2*np.pi**2)/k**3 for k in karr]\n",
        "Pk_lin           = [a*b for a, b in zip(prefac,Deltasq_lin)]\n",
        "\n",
        "z=1\n",
        "Deltasq_lin_z1   = [Deltasq_Pk_linear  (z, k, A, H0, Om, Ob, ns) for k in karr]\n",
        "Pk_lin_z1        = [a*b for a, b in zip(prefac,Deltasq_lin_z1)]\n",
        "\n",
        "plt.loglog(karr,Pk_lin, 'k', label='z=0')\n",
        "plt.loglog(karr,Pk_lin_z1, 'b', ls='dashed', label='z=1')\n",
        "\n",
        "plt.legend(loc=\"upper right\")\n",
        "plt.xlabel(r'$k\\,\\, (h\\,{\\rm Mpc}^{-1})$')\n",
        "plt.ylabel(r'$P(k, z=0)\\,\\, [(h^{-1}\\,{\\rm Mpc})^3]$', fontsize=22)"
      ],
      "execution_count": 14,
      "outputs": [
        {
          "output_type": "execute_result",
          "data": {
            "text/plain": [
              "Text(0, 0.5, '$P(k, z=0)\\\\,\\\\, [(h^{-1}\\\\,{\\\\rm Mpc})^3]$')"
            ]
          },
          "metadata": {
            "tags": []
          },
          "execution_count": 14
        },
        {
          "output_type": "display_data",
          "data": {
            "image/png": "[encoded data removed]",
            "text/plain": [
              "<Figure size 432x288 with 1 Axes>"
            ]
          },
          "metadata": {
            "tags": [],
            "needs_background": "light"
          }
        }
      ]
    },
    {
      "cell_type": "markdown",
      "metadata": {
        "id": "q5soyJ2HW8a-"
      },
      "source": [
        "Now we are ready to calculate the amplitude of mass fluctuations $\\sigma(z, M)$ -- first and foremost, the quantity $\\sigma_8$ evaluated at $z=0$.\n",
        "\n",
        "The equation is, recall\n",
        "\n",
        "$ \\sigma^2(z, R) = \\displaystyle\\int_0^\\infty \\Delta^2(k) \\left ({3j_1(kR)\\over kR}\\right )^2 d\\ln k$\n",
        "\n",
        "Helpful: the spherical Bessel function of the first kind is, in scipy.spherical, given by sp.spherical_jn(1,x)."
      ]
    },
    {
      "cell_type": "code",
      "metadata": {
        "colab": {
          "base_uri": "https://localhost:8080/"
        },
        "id": "l9827yRLXJu9",
        "outputId": "cfc24e1d-fcb2-44af-f114-1c60f9efdb20"
      },
      "source": [
        "import scipy.special as sp\n",
        "###############################\n",
        "# sigma(z, R)\n",
        "###############################  \n",
        "def integrand_sigma_sq(log10k, r, z, A_k005, H0, Om, Ob, ns):\n",
        "    k = 10**log10k\n",
        "    x = k*r\n",
        "    # below is expression, which when multiplied by dlog10(k) = 1/ln(10) * dk/k gives the right thing\n",
        "    return (3*sp.spherical_jn(1,x)/x)**2 * Deltasq_Pk_linear(z, k, A_k005, H0, Om, Ob, ns) * np.log(10.0)\n",
        "\n",
        "def sigma(r, z, A_k005, H0, Om, Ob, ns):\n",
        "    # integrate in the log; scale upper limit by r (not required)\n",
        "    log10_kmax = 2 + np.log10(8.0/r)\n",
        "    sigsq = quad(integrand_sigma_sq, -3, log10_kmax, args=(r, z, A_k005, H0, Om, Ob, ns), limit = 1000)[0]\n",
        "    return np.sqrt(sigsq)\n",
        "\n",
        "# now report sigma8 when ready:\n",
        "print('Sigma8=', sigma(8.0, 0.0, A, H0, Om, Ob, ns))"
      ],
      "execution_count": 8,
      "outputs": [
        {
          "output_type": "stream",
          "text": [
            "Sigma8= 0.5372204082498632\n"
          ],
          "name": "stdout"
        }
      ]
    },
    {
      "cell_type": "markdown",
      "metadata": {
        "id": "gPH3F3zdpWYT"
      },
      "source": [
        "Now define the Press-Schechter mass function. The formula is:\n",
        "$\\displaystyle{dn\\over d\\ln M} = \\sqrt{2\\over \\pi}\\,{\\rho_{M, 0}\\over M}\\,{\\delta_c\\over\\sigma}\\left |{d\\ln\\sigma\\over d\\ln M}\\right |\n",
        "\\, e^{-\\delta_c^2/(2\\sigma^2)}$\n",
        "\n",
        "where $\\delta_c=1.686$ is critical overdensity for collapse from the spherical collapse model. \n",
        "\n",
        "It will take you a bit of effort to code this up without mistakes. Note that you need $\\sigma(M, z)$, while you have previously defined $\\sigma(R, z)$. Mass and radius are, fortunately, related simply here:\n",
        "\n",
        "$M = \\displaystyle\\frac{4\\pi}{3}\\rho_M(z=0)R^3$\n",
        "\n",
        "where $\\rho_M(z=0)$ is the physical matter density evaluated at the present time. Note that, if you work in your favorite units where $R$ is in $h^{-1}\\,{\\rm Mpc}$ and mass is in $h^{-1}\\,M_\\odot$.  \n",
        "So you can still work off of your function $\\sigma(R, z)$ by converting $M$ into $R$ in your mass function definition."
      ]
    },
    {
      "cell_type": "markdown",
      "metadata": {
        "id": "vVvxn9H5eCWk"
      },
      "source": [
        ""
      ]
    },
    {
      "cell_type": "code",
      "metadata": {
        "id": "a_G0d1eqpbVK"
      },
      "source": [
        "from scipy.misc import derivative\n",
        "\n",
        "DELTA_C = 1.686  ## critical overdensity of the spherical collapse\n",
        "CRIT_DENS = 2.775e11 ## (h^{-1}M_sun) / (h^{-1} Mpc)^3 */\n",
        "def rho_m(z, Om):\n",
        "    return CRIT_DENS*Om*(1+z)**3\n",
        "\n",
        "def dn_dlnM(z, M, A_k005, H0, Om, Ob, ns):\n",
        "    # important: convert mass into equivalent R\n",
        "    R = (3*M/(4*np.pi*rho_m(0, Om))) **(1/3) ## in h^{-1} Mpc\n",
        "    sig =  sigma(R, z, A_k005, H0, Om, Ob, ns)  # note that growth D is already in sigma\n",
        "\n",
        "    # need a derivative\n",
        "    dR = 0.02*R\n",
        "    # dlnM = 3*dlnR + const, so dR/dM = (1/3) * R/M\n",
        "    dR_dM = (1/3)* R/M    \n",
        "    dsigma_dR = derivative(sigma, R, dx=dR, n=1, args=(z, A_k005, H0, Om, Ob, ns))\n",
        "    dsigma_dM = dsigma_dR * dR_dM      \n",
        "    dlnsig_dlnM_abs = M/sig * np.abs(dsigma_dM)\n",
        "    \n",
        "    return np.sqrt(2.0/np.pi) * rho_m(0, Om)/M * dlnsig_dlnM_abs * DELTA_C/sig * np.exp(-0.5*(DELTA_C/sig)**2)  "
      ],
      "execution_count": 9,
      "outputs": []
    },
    {
      "cell_type": "markdown",
      "metadata": {
        "id": "Ln2lnZVV3iYf"
      },
      "source": [
        "Next, plot the mass function $dn/d\\ln M$ over the range $z\\in[0, 5]$ for three choices of mass $M=[10^{13}, 10^{14}, 10^{15}]h^{-1}\\,M_\\odot$. "
      ]
    },
    {
      "cell_type": "code",
      "metadata": {
        "colab": {
          "base_uri": "https://localhost:8080/",
          "height": 307
        },
        "id": "iXJz0qVV37-x",
        "outputId": "4c7052f9-aefb-470e-ceef-439b2ae3a973"
      },
      "source": [
        "zarr = np.linspace(0, 5, 21)\n",
        "dn_dlnM_arr_13 = [dn_dlnM(z, 1e13, A, H0, Om, Ob, ns) for z in zarr]\n",
        "dn_dlnM_arr_14 = [dn_dlnM(z, 1e14, A, H0, Om, Ob, ns) for z in zarr]\n",
        "dn_dlnM_arr_15 = [dn_dlnM(z, 1e15, A, H0, Om, Ob, ns) for z in zarr]\n",
        "\n",
        "plt.xlim(0, 5)\n",
        "plt.ylim(1.0e-10, 0.001)\n",
        "plt.xlabel(r'$z$')\n",
        "plt.ylabel(r'$dn/dlnM (M, z)\\,\\, [(h^{-1}\\,{\\rm Mpc})^{-3}]$', fontsize=20)\n",
        "\n",
        "plt.yscale('log')\n",
        "plt.plot(zarr, dn_dlnM_arr_13, label=r'$M=10^{13}M_\\odot$')\n",
        "plt.plot(zarr, dn_dlnM_arr_14, label=r'$M=10^{14}M_\\odot$')\n",
        "plt.plot(zarr, dn_dlnM_arr_15, label=r'$M=10^{15}M_\\odot$')\n",
        "\n",
        "plt.legend(loc=\"upper right\")\n",
        "\n",
        "plt.show()"
      ],
      "execution_count": 10,
      "outputs": [
        {
          "output_type": "display_data",
          "data": {
            "image/png": "[encoded data removed]",
            "text/plain": [
              "<Figure size 432x288 with 1 Axes>"
            ]
          },
          "metadata": {
            "tags": [],
            "needs_background": "light"
          }
        }
      ]
    },
    {
      "cell_type": "markdown",
      "metadata": {
        "id": "GVi0JG7yGOiC"
      },
      "source": [
        "Finally, calculate the number of clusters (halos) with $M>10^{14}\\,h^{-1}N_\\odot$. Assume that your survey covers 5,000 sq. deg. on the sky (how many steradians is that?) and spans redshifts $0<z<1$.  \n",
        "\n",
        "You will use the formula from the lecture\n",
        "\n",
        "$\\displaystyle N(>M_{\\rm th}) = \\int d\\Omega\\,\\int dz \\int_{M_{\\rm th}}^\\infty d\\ln M\\,\\frac{dn}{d\\ln M} \\frac{dV}{d\\Omega\\, dz}.$\n",
        "\n",
        "Potentially helpful: the volume element is \n",
        "\n",
        "$\\displaystyle \\frac{dV}{d\\Omega dz} = \\frac{r^2(z)}{H(z)}$.\n",
        "\n",
        "Note that, because $r(z)$ goes as $1/H_0$, and $H(z)$ obviously goes as $H_0$, the volume element goes as $1/H_0^3$, as expected. It's easiest to code it up as $1/H_0^3$ (in the right units!) times dimensionless functions."
      ]
    },
    {
      "cell_type": "code",
      "metadata": {
        "colab": {
          "base_uri": "https://localhost:8080/"
        },
        "id": "_E4wgOVZIhGC",
        "outputId": "ad36c43c-6b64-4faf-8d71-581da688a3ea"
      },
      "source": [
        "# survey area, in staeradians\n",
        "Omega_survey = 5000.0 * 4*np.pi/42000.0  ## in steradians\n",
        "\n",
        "#first I need the volume element which is a function of z\n",
        "def dV_domegadz(z):  \n",
        "  # overall H0^{-3} scaling; note need units inverse of those of n(z)\n",
        "  H0_inv_cubed = 2997.9**3  # (h^{-1} Mpc)^3\n",
        "  return H0_inv_cubed * rz(z, Om, Ok, w)**2 * dist_integrand(z, Om, Ok, w)\n",
        "\n",
        "# a litttle-bit pedestrian but clear way to integrate over z and M\n",
        "ZMAX=1\n",
        "NZ = 10\n",
        "zarr = np.linspace(0, ZMAX, NZ)\n",
        "dz = ZMAX/NZ\n",
        "\n",
        "NM = 20\n",
        "log10M_arr = np.linspace(14, 15, NM)\n",
        "dlog10M = (15-14)/NM   \n",
        "\n",
        "total = 0\n",
        "for i in range(log10M_arr.size):\n",
        "  # get M from log10(M)\n",
        "  M = 10**(log10M_arr[i])\n",
        "\n",
        "  # convert to dln(M)\n",
        "  dlnM = np.log(10) * dlog10M\n",
        "\n",
        "  #sum up over all z\n",
        "  temp = [dV_domegadz(z)*dn_dlnM(z, M, A, H0, Om, Ob, ns)*dz*dlnM*Omega_survey for z in zarr]\n",
        "  total = total +  sum(temp)\n",
        "\n",
        "print('Total number of clusters:', total)"
      ],
      "execution_count": 11,
      "outputs": [
        {
          "output_type": "stream",
          "text": [
            "Total number of clusters: 374.04588690720755\n"
          ],
          "name": "stdout"
        }
      ]
    },
    {
      "cell_type": "markdown",
      "metadata": {
        "id": "66kW9HFglA1j"
      },
      "source": [
        "Now repeat the same calculation above except in the Einstein-de Sitter model with $\\Omega_M=1$. You don't have to write any new code, just go to the most recent code box, and at its beginning add the new value of $\\Omega_M$. What do you notice about your result??\n"
      ]
    },
    {
      "cell_type": "code",
      "metadata": {
        "id": "r5dCJM_b4EoA"
      },
      "source": [
        ""
      ],
      "execution_count": 11,
      "outputs": []
    },
    {
      "cell_type": "markdown",
      "metadata": {
        "id": "YU94Vd2Z7VLN"
      },
      "source": [
        "#### But that's actually not what you want *either* - you want to find 68\\%, 96% etc percentiles of the weights - that is, sum up the weights from highest and go down until you hit 68% etc of the total sum.\n",
        "\n",
        "Do this as a homework problem. One brute-force way to do it would be to rank-order the weights array from the largest to the smallest value, and start adding the weights until yoou hit 68% of the total sum of weights. Keep track of the corresponding parameter sets for those highest weights, and plot their union in the, say, $\\Omega_M-\\Omega_\\Lambda$ plane."
      ]
    },
    {
      "cell_type": "markdown",
      "metadata": {
        "id": "buUXzNX92v_F"
      },
      "source": [
        "###Can you can improve the efficiency of your walk? \n",
        "####Say you have a long and thin posterior (which is most often true at some level, esp in high dimensions). Rather than making uncorrelated steps in each parameter direction, it is better to step along the \"long\" and \"short\" directions - that is, eigendirections of Cov of the posterior at that point.\n",
        "\n",
        "### For optional homework:\n",
        "\n",
        "    - take the posterior covariance of the transpose of your existing chain\n",
        "    - find the Cholesky decomposition `chol` (matrix square-root) of the posterior covariance\n",
        "    - make a new proposal `chol @ r` where `r` is a vector of random Gaussian numbers with variance of one\n",
        "\n"
      ]
    },
    {
      "cell_type": "code",
      "metadata": {
        "id": "efmjHdBsb_Kb"
      },
      "source": [
        ""
      ],
      "execution_count": 11,
      "outputs": []
    }
  ]
}